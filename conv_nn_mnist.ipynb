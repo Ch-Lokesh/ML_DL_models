{
  "nbformat": 4,
  "nbformat_minor": 0,
  "metadata": {
    "colab": {
      "name": "conv_nn_mnist.ipynb",
      "version": "0.3.2",
      "provenance": [],
      "include_colab_link": true
    },
    "kernelspec": {
      "name": "python3",
      "display_name": "Python 3"
    }
  },
  "cells": [
    {
      "cell_type": "markdown",
      "metadata": {
        "id": "view-in-github",
        "colab_type": "text"
      },
      "source": [
        "<a href=\"https://colab.research.google.com/github/Ch-Lokesh/deeplearning_models/blob/master/conv_nn_mnist.ipynb\" target=\"_parent\"><img src=\"https://colab.research.google.com/assets/colab-badge.svg\" alt=\"Open In Colab\"/></a>"
      ]
    },
    {
      "cell_type": "code",
      "metadata": {
        "id": "z4jbYuV8uuZM",
        "colab_type": "code",
        "colab": {}
      },
      "source": [
        "import tensorflow as tf\n",
        "import numpy as np\n",
        "import matplotlib.pyplot as plt\n",
        "import sklearn      #to perform kfold\n",
        "from tensorflow import keras\n"
      ],
      "execution_count": 0,
      "outputs": []
    },
    {
      "cell_type": "code",
      "metadata": {
        "id": "GFtwbhhWu9jF",
        "colab_type": "code",
        "colab": {}
      },
      "source": [
        "mnist = tf.keras.datasets.mnist\n",
        "(x_train, y_train), (x_test, y_test)  = mnist.load_data()"
      ],
      "execution_count": 0,
      "outputs": []
    },
    {
      "cell_type": "markdown",
      "metadata": {
        "id": "L-lxGtoLvlUT",
        "colab_type": "text"
      },
      "source": [
        "normalized data works good for neural networks"
      ]
    },
    {
      "cell_type": "code",
      "metadata": {
        "id": "O_0M8h2EvIAH",
        "colab_type": "code",
        "colab": {}
      },
      "source": [
        "x_train = tf.keras.utils.normalize(x_train)\n",
        "x_test = tf.keras.utils.normalize(x_test)"
      ],
      "execution_count": 0,
      "outputs": []
    },
    {
      "cell_type": "markdown",
      "metadata": {
        "id": "kRq56-jjwBBA",
        "colab_type": "text"
      },
      "source": [
        "Summarizing the data"
      ]
    },
    {
      "cell_type": "code",
      "metadata": {
        "id": "x1rG7xVLvvqX",
        "colab_type": "code",
        "outputId": "187797f6-6d29-4348-c432-d700fdfdae70",
        "colab": {
          "base_uri": "https://localhost:8080/",
          "height": 34
        }
      },
      "source": [
        "print(\"shape of training_data = %s and test data is %s\"%(x_train.shape, x_test.shape))"
      ],
      "execution_count": 4,
      "outputs": [
        {
          "output_type": "stream",
          "text": [
            "shape of training_data = (60000, 28, 28) and test data is (10000, 28, 28)\n"
          ],
          "name": "stdout"
        }
      ]
    },
    {
      "cell_type": "markdown",
      "metadata": {
        "id": "W_-h1QWwwcCC",
        "colab_type": "text"
      },
      "source": [
        "i.e, training data contains 60000 instances each of 28*28 pixels, and test data contains 10000 instances / images of 28*28 pixels, ingeneral we don't get same sized data/pictures in real life projects we need to resize them."
      ]
    },
    {
      "cell_type": "code",
      "metadata": {
        "id": "xMi_MwClwQSQ",
        "colab_type": "code",
        "outputId": "f402a0e1-431e-42a4-d2b2-9557b0458f97",
        "colab": {
          "base_uri": "https://localhost:8080/",
          "height": 269
        }
      },
      "source": [
        "for i in range(9):\n",
        "    plt.subplot(3, 3 ,1 + i)\n",
        "    plt.imshow(x_train[i])\n",
        "    \n",
        "    \n",
        "plt.show()\n",
        "    "
      ],
      "execution_count": 5,
      "outputs": [
        {
          "output_type": "display_data",
          "data": {
            "image/png": "[encoded data removed]",
            "text/plain": [
              "<Figure size 432x288 with 9 Axes>"
            ]
          },
          "metadata": {
            "tags": []
          }
        }
      ]
    },
    {
      "cell_type": "code",
      "metadata": {
        "id": "jYYUiFi5yyLF",
        "colab_type": "code",
        "outputId": "8b5708d0-a0d0-48a4-9bd3-aaf4bbf03752",
        "colab": {
          "base_uri": "https://localhost:8080/",
          "height": 269
        }
      },
      "source": [
        "#to get grey scale data\n",
        "for i in range(9):\n",
        "    plt.subplot(3, 3, 1 + i)\n",
        "    plt.imshow(x_train[i], cmap = 'gray')\n",
        "    \n",
        "plt.show()"
      ],
      "execution_count": 6,
      "outputs": [
        {
          "output_type": "display_data",
          "data": {
            "image/png": "[encoded data removed]",
            "text/plain": [
              "<Figure size 432x288 with 9 Axes>"
            ]
          },
          "metadata": {
            "tags": []
          }
        }
      ]
    },
    {
      "cell_type": "code",
      "metadata": {
        "id": "UBPapfK41TT1",
        "colab_type": "code",
        "colab": {}
      },
      "source": [
        "x_trian = x_train.reshape(x_train.shape[0],28, 28, 1)\n",
        "x_test = x_test.reshape(x_test.shape[0], 28, 28, 1)\n"
      ],
      "execution_count": 0,
      "outputs": []
    },
    {
      "cell_type": "code",
      "metadata": {
        "id": "uk_zowoI12Jp",
        "colab_type": "code",
        "outputId": "069007f5-1f97-40b3-f0b7-9d261314c4af",
        "colab": {
          "base_uri": "https://localhost:8080/",
          "height": 173
        }
      },
      "source": [
        "for i in range(9):\n",
        "    print(y_train[i])"
      ],
      "execution_count": 8,
      "outputs": [
        {
          "output_type": "stream",
          "text": [
            "5\n",
            "0\n",
            "4\n",
            "1\n",
            "9\n",
            "2\n",
            "1\n",
            "3\n",
            "1\n"
          ],
          "name": "stdout"
        }
      ]
    },
    {
      "cell_type": "markdown",
      "metadata": {
        "id": "qAU4E4Mm35_W",
        "colab_type": "text"
      },
      "source": [
        "with one hot encoding shape of the each y is changed to a row matrix of length 10 in which  only one value will be "
      ]
    },
    {
      "cell_type": "code",
      "metadata": {
        "id": "2oL_JPfi31ec",
        "colab_type": "code",
        "colab": {}
      },
      "source": [
        "y_train_hot = tf.keras.utils.to_categorical(y_train)\n",
        "y_test_hot = tf.keras.utils.to_categorical(y_test)\n"
      ],
      "execution_count": 0,
      "outputs": []
    },
    {
      "cell_type": "code",
      "metadata": {
        "id": "EW9oY9X64jsR",
        "colab_type": "code",
        "outputId": "02d4f5ca-6fc7-45c3-8910-3547142f3d38",
        "colab": {
          "base_uri": "https://localhost:8080/",
          "height": 173
        }
      },
      "source": [
        "for i in range (9):\n",
        "    print(y_train_hot[i])"
      ],
      "execution_count": 10,
      "outputs": [
        {
          "output_type": "stream",
          "text": [
            "[0. 0. 0. 0. 0. 1. 0. 0. 0. 0.]\n",
            "[1. 0. 0. 0. 0. 0. 0. 0. 0. 0.]\n",
            "[0. 0. 0. 0. 1. 0. 0. 0. 0. 0.]\n",
            "[0. 1. 0. 0. 0. 0. 0. 0. 0. 0.]\n",
            "[0. 0. 0. 0. 0. 0. 0. 0. 0. 1.]\n",
            "[0. 0. 1. 0. 0. 0. 0. 0. 0. 0.]\n",
            "[0. 1. 0. 0. 0. 0. 0. 0. 0. 0.]\n",
            "[0. 0. 0. 1. 0. 0. 0. 0. 0. 0.]\n",
            "[0. 1. 0. 0. 0. 0. 0. 0. 0. 0.]\n"
          ],
          "name": "stdout"
        }
      ]
    },
    {
      "cell_type": "markdown",
      "metadata": {
        "id": "z2hQWwsR4u2Z",
        "colab_type": "text"
      },
      "source": [
        "On one hot encoding the shape of the y_test and y_train changed into a row matrix of lenght 10 in which only one value will be one and remaining all we be zero "
      ]
    },
    {
      "cell_type": "code",
      "metadata": {
        "id": "xddUKIk74rYw",
        "colab_type": "code",
        "colab": {}
      },
      "source": [
        "#creating a model\n",
        "model = tf.keras.models.Sequential()\n",
        "model.add(keras.layers.Conv2D(32, (3, 3), activation='relu', kernel_initializer='he_uniform', input_shape = (28, 28, 1) ))\n",
        "#initially we need not to flatten the data as we done in the other models bcz we need 2d arrays in conv models"
      ],
      "execution_count": 0,
      "outputs": []
    },
    {
      "cell_type": "markdown",
      "metadata": {
        "id": "3ZRiHkZS84pE",
        "colab_type": "text"
      },
      "source": [
        "32 is the number of filters <br>\n",
        "(3, 3) is the shape of each filter<br>\n",
        "it is better to give the no. of filters in the power of 2  and the filter size as add<br>\n",
        "by default strides = (1, 1)<br>\n",
        "padding takes two values valid or same, valid implies no padding and same implies that the output shape won't change on convolution\n",
        "\n"
      ]
    },
    {
      "cell_type": "code",
      "metadata": {
        "id": "P6JXL8fz6Gbd",
        "colab_type": "code",
        "colab": {
          "base_uri": "https://localhost:8080/",
          "height": 106
        },
        "outputId": "b9c638a1-80ec-4e34-912b-24e226b0b884"
      },
      "source": [
        "#model needed to be max pooled after convolution\n",
        "model.add(keras.layers.MaxPooling2D(pool_size = (2, 2)))\n",
        "model.add(keras.layers.Flatten())\n",
        "model.add(keras.layers.Dense(120, activation='relu', kernel_initializer='he_uniform'))\n",
        "model.add(keras.layers.Dense(10, activation='softmax'))   #for last layer softmax activation function give max probability\n",
        "\n",
        "opt = keras.optimizers.SGD(lr = 0.01, momentum = 0.9)\n",
        "model.compile(opt, loss='categorical_crossentropy', metrics = ['accuracy'])\n"
      ],
      "execution_count": 12,
      "outputs": [
        {
          "output_type": "stream",
          "text": [
            "WARNING: Logging before flag parsing goes to stderr.\n",
            "W0813 17:38:24.215706 139641348491136 deprecation.py:506] From /usr/local/lib/python3.6/dist-packages/tensorflow/python/ops/init_ops.py:1251: calling VarianceScaling.__init__ (from tensorflow.python.ops.init_ops) with dtype is deprecated and will be removed in a future version.\n",
            "Instructions for updating:\n",
            "Call initializer instance with the dtype argument instead of passing it to the constructor\n"
          ],
          "name": "stderr"
        }
      ]
    },
    {
      "cell_type": "code",
      "metadata": {
        "id": "2Ffteqd6A3r4",
        "colab_type": "code",
        "colab": {
          "base_uri": "https://localhost:8080/",
          "height": 52
        },
        "outputId": "42f2f89b-9970-4d52-f584-d67761eb48ae"
      },
      "source": [
        "x_train_shaped = x_train.reshape(x_train.shape[0], 28, 28, 1)\n",
        "x_test_shaped = x_test.reshape(x_test.shape[0], 28, 28, 1)\n",
        "model_1 = model\n",
        "model_1.fit(x_train_shaped, y_train_hot)"
      ],
      "execution_count": 15,
      "outputs": [
        {
          "output_type": "stream",
          "text": [
            "60000/60000 [==============================] - 36s 601us/sample - loss: 0.2108 - acc: 0.9352\n"
          ],
          "name": "stdout"
        },
        {
          "output_type": "execute_result",
          "data": {
            "text/plain": [
              "<tensorflow.python.keras.callbacks.History at 0x7f008a460390>"
            ]
          },
          "metadata": {
            "tags": []
          },
          "execution_count": 15
        }
      ]
    },
    {
      "cell_type": "code",
      "metadata": {
        "id": "EJq7s74cEWPG",
        "colab_type": "code",
        "colab": {
          "base_uri": "https://localhost:8080/",
          "height": 34
        },
        "outputId": "4b969ab5-6da1-4070-eee4-85cf8751deb6"
      },
      "source": [
        "print(x_test[0].shape)"
      ],
      "execution_count": 20,
      "outputs": [
        {
          "output_type": "stream",
          "text": [
            "(28, 28, 1)\n"
          ],
          "name": "stdout"
        }
      ]
    },
    {
      "cell_type": "code",
      "metadata": {
        "id": "t-pkD5GKFiE0",
        "colab_type": "code",
        "colab": {
          "base_uri": "https://localhost:8080/",
          "height": 269
        },
        "outputId": "d597913d-909b-49fe-cc31-5e5900634856"
      },
      "source": [
        "plt.imshow(x_test[0].reshape(28, 28), cmap = 'gray')\n",
        "plt.show()"
      ],
      "execution_count": 22,
      "outputs": [
        {
          "output_type": "display_data",
          "data": {
            "image/png": "[encoded data removed]",
            "text/plain": [
              "<Figure size 432x288 with 1 Axes>"
            ]
          },
          "metadata": {
            "tags": []
          }
        }
      ]
    },
    {
      "cell_type": "code",
      "metadata": {
        "id": "aTwJQiXAGeVN",
        "colab_type": "code",
        "colab": {}
      },
      "source": [
        "predictions = model_1.predict([x_test_shaped])\n"
      ],
      "execution_count": 0,
      "outputs": []
    },
    {
      "cell_type": "code",
      "metadata": {
        "id": "tkQQkPKFGmdI",
        "colab_type": "code",
        "colab": {
          "base_uri": "https://localhost:8080/",
          "height": 34
        },
        "outputId": "1874cc83-2a8d-4a91-8202-6cfb6d94e5fe"
      },
      "source": [
        "print(np.argmax(predictions[0]))"
      ],
      "execution_count": 30,
      "outputs": [
        {
          "output_type": "stream",
          "text": [
            "7\n"
          ],
          "name": "stdout"
        }
      ]
    },
    {
      "cell_type": "code",
      "metadata": {
        "id": "9-uWML4YG4Nn",
        "colab_type": "code",
        "colab": {
          "base_uri": "https://localhost:8080/",
          "height": 52
        },
        "outputId": "595417bf-2961-49e7-e836-a435d658803e"
      },
      "source": [
        "model.evaluate(x_test_shaped, y_test_hot)"
      ],
      "execution_count": 31,
      "outputs": [
        {
          "output_type": "stream",
          "text": [
            "10000/10000 [==============================] - 2s 206us/sample - loss: 0.0873 - acc: 0.9721\n"
          ],
          "name": "stdout"
        },
        {
          "output_type": "execute_result",
          "data": {
            "text/plain": [
              "[0.08727053869701921, 0.9721]"
            ]
          },
          "metadata": {
            "tags": []
          },
          "execution_count": 31
        }
      ]
    },
    {
      "cell_type": "code",
      "metadata": {
        "id": "sxB2qCdwHK43",
        "colab_type": "code",
        "colab": {}
      },
      "source": [
        ""
      ],
      "execution_count": 0,
      "outputs": []
    }
  ]
}